{
  "nbformat": 4,
  "nbformat_minor": 0,
  "metadata": {
    "colab": {
      "provenance": [],
      "authorship_tag": "ABX9TyP1MQ869tBzI4ojOGoxYGam",
      "include_colab_link": true
    },
    "kernelspec": {
      "name": "python3",
      "display_name": "Python 3"
    },
    "language_info": {
      "name": "python"
    }
  },
  "cells": [
    {
      "cell_type": "markdown",
      "metadata": {
        "id": "view-in-github",
        "colab_type": "text"
      },
      "source": [
        "<a href=\"https://colab.research.google.com/github/Aadya1504/Data-communication-and-networks/blob/main/Bit%20Stuffing.ipynb\" target=\"_parent\"><img src=\"https://colab.research.google.com/assets/colab-badge.svg\" alt=\"Open In Colab\"/></a>"
      ]
    },
    {
      "cell_type": "code",
      "execution_count": 2,
      "metadata": {
        "colab": {
          "base_uri": "https://localhost:8080/"
        },
        "id": "xvfu4YR6JU5A",
        "outputId": "8d7b06ed-9f91-4907-8e9b-b2a7dfcec9a3"
      },
      "outputs": [
        {
          "output_type": "stream",
          "name": "stdout",
          "text": [
            "Original data: 11111011111101111110\n",
            "Stuffed data:   11111001111101011111010\n",
            "Aadya Srivastava\n",
            "500105682\n",
            "AIML Batch 5\n"
          ]
        }
      ],
      "source": [
        "def bit_stuffing(data):\n",
        "       stuffed_data = \" \" #this will store final stuffed data\n",
        "       consecutive_ones = 0 # Counter to track consecutive '1's\n",
        "\n",
        "       for bit in data:\n",
        "             stuffed_data += bit # Add the current bit to the stuffed data\n",
        "\n",
        "             if bit =='1' :\n",
        "                consecutive_ones += 1 # Increment counter if bit is '1'\n",
        "                if consecutive_ones == 5:\n",
        "                   # If there are 5 consecutive '1's, add a '0'\n",
        "                   stuffed_data += '0'\n",
        "                   consecutive_ones= 0 # Reset the counter after stuffing\n",
        "             else:\n",
        "                 #Reset counter if bit is '0'\n",
        "                 consecutive_ones =0\n",
        "\n",
        "       return stuffed_data #Return the stuffed data\n",
        "\n",
        "# Example usage\n",
        "data = \"11111011111101111110\"\n",
        "stuffed_data = bit_stuffing(data)\n",
        "print(\"Original data:\", data)\n",
        "print(\"Stuffed data: \", stuffed_data)\n",
        "print(\"Aadya Srivastava\")\n",
        "print(\"500105682\")\n",
        "print(\"AIML Batch 5\")"
      ]
    }
  ]
}