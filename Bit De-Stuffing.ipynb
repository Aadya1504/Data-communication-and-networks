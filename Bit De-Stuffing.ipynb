{
  "nbformat": 4,
  "nbformat_minor": 0,
  "metadata": {
    "colab": {
      "provenance": [],
      "authorship_tag": "ABX9TyN+3eCcfyvUtMzh/4Rd8e/F",
      "include_colab_link": true
    },
    "kernelspec": {
      "name": "python3",
      "display_name": "Python 3"
    },
    "language_info": {
      "name": "python"
    }
  },
  "cells": [
    {
      "cell_type": "markdown",
      "metadata": {
        "id": "view-in-github",
        "colab_type": "text"
      },
      "source": [
        "<a href=\"https://colab.research.google.com/github/Aadya1504/Data-communication-and-networks/blob/main/Bit%20De-Stuffing.ipynb\" target=\"_parent\"><img src=\"https://colab.research.google.com/assets/colab-badge.svg\" alt=\"Open In Colab\"/></a>"
      ]
    },
    {
      "cell_type": "code",
      "execution_count": 1,
      "metadata": {
        "colab": {
          "base_uri": "https://localhost:8080/"
        },
        "id": "NfQBLlsaP74Q",
        "outputId": "5dd3d9ef-ca2d-4ed1-ab07-7cd5c8f00c1f"
      },
      "outputs": [
        {
          "output_type": "stream",
          "name": "stdout",
          "text": [
            "Destuffed data: 11111111011\n"
          ]
        }
      ],
      "source": [
        "def bit_destuffing(stuffed_data):\n",
        "    destuffed_data = \"\"  # This will store the final destuffed data\n",
        "    consecutive_ones = 0  # Counter to track consecutive '1's\n",
        "    i = 0  # Index to traverse the stuffed data\n",
        "\n",
        "    while i < len(stuffed_data):\n",
        "        bit = stuffed_data[i]\n",
        "        destuffed_data += bit  # Add the current bit to the destuffed data\n",
        "\n",
        "        if bit == '1':\n",
        "            consecutive_ones += 1  # Increment counter if bit is '1'\n",
        "        else:\n",
        "            consecutive_ones = 0  # Reset counter if bit is '0'\n",
        "\n",
        "        if consecutive_ones == 5:\n",
        "            i += 1  # Skip the next bit if it was stuffed\n",
        "            consecutive_ones = 0  # Reset the counter after destuffing\n",
        "\n",
        "        i += 1  # Move to the next bit\n",
        "\n",
        "    return destuffed_data  # Return the destuffed data\n",
        "\n",
        "# Example usage\n",
        "stuffed_data = \"111110111011\"  # Example stuffed data\n",
        "destuffed_data = bit_destuffing(stuffed_data)\n",
        "print(\"Destuffed data:\", destuffed_data)"
      ]
    }
  ]
}