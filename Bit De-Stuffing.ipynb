{
  "nbformat": 4,
  "nbformat_minor": 0,
  "metadata": {
    "colab": {
      "provenance": [],
      "authorship_tag": "ABX9TyO04M+tNIoE4BAmsCXo3lyQ",
      "include_colab_link": true
    },
    "kernelspec": {
      "name": "python3",
      "display_name": "Python 3"
    },
    "language_info": {
      "name": "python"
    }
  },
  "cells": [
    {
      "cell_type": "markdown",
      "metadata": {
        "id": "view-in-github",
        "colab_type": "text"
      },
      "source": [
        "<a href=\"https://colab.research.google.com/github/Aadya1504/Data-communication-and-networks/blob/main/Bit%20De-Stuffing.ipynb\" target=\"_parent\"><img src=\"https://colab.research.google.com/assets/colab-badge.svg\" alt=\"Open In Colab\"/></a>"
      ]
    },
    {
      "cell_type": "code",
      "execution_count": 2,
      "metadata": {
        "colab": {
          "base_uri": "https://localhost:8080/"
        },
        "id": "NfQBLlsaP74Q",
        "outputId": "a75c71d6-34ca-4022-ca4c-f23cae1cccba"
      },
      "outputs": [
        {
          "output_type": "stream",
          "name": "stdout",
          "text": [
            "Destuffed data: 11111111011\n",
            "Aadya Srivastava\n",
            "500105682\n",
            "AIML Batch 5\n"
          ]
        }
      ],
      "source": [
        "def bit_destuffing(stuffed_data):\n",
        "    destuffed_data = \"\"  # This will store the final destuffed data\n",
        "    consecutive_ones = 0  # Counter to track consecutive '1's\n",
        "    i = 0  # Index to traverse the stuffed data\n",
        "\n",
        "    while i < len(stuffed_data):\n",
        "        bit = stuffed_data[i]\n",
        "        destuffed_data += bit  # Add the current bit to the destuffed data\n",
        "\n",
        "        if bit == '1':\n",
        "            consecutive_ones += 1  # Increment counter if bit is '1'\n",
        "        else:\n",
        "            consecutive_ones = 0  # Reset counter if bit is '0'\n",
        "\n",
        "        if consecutive_ones == 5:\n",
        "            i += 1  # Skip the next bit if it was stuffed\n",
        "            consecutive_ones = 0  # Reset the counter after destuffing\n",
        "\n",
        "        i += 1  # Move to the next bit\n",
        "\n",
        "    return destuffed_data  # Return the destuffed data\n",
        "\n",
        "# Example usage\n",
        "stuffed_data = \"111110111011\"  # Example stuffed data\n",
        "destuffed_data = bit_destuffing(stuffed_data)\n",
        "print(\"Destuffed data:\", destuffed_data)\n",
        "print(\"Aadya Srivastava\")\n",
        "print(\"500105682\")\n",
        "print(\"AIML Batch 5\")"
      ]
    }
  ]
}