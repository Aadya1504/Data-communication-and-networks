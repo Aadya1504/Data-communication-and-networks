{
  "nbformat": 4,
  "nbformat_minor": 0,
  "metadata": {
    "colab": {
      "provenance": [],
      "authorship_tag": "ABX9TyPuXKYLyRH4NYdtySQFRZ+y",
      "include_colab_link": true
    },
    "kernelspec": {
      "name": "python3",
      "display_name": "Python 3"
    },
    "language_info": {
      "name": "python"
    }
  },
  "cells": [
    {
      "cell_type": "markdown",
      "metadata": {
        "id": "view-in-github",
        "colab_type": "text"
      },
      "source": [
        "<a href=\"https://colab.research.google.com/github/Aadya1504/Data-communication-and-networks/blob/main/Hamming_Code.ipynb\" target=\"_parent\"><img src=\"https://colab.research.google.com/assets/colab-badge.svg\" alt=\"Open In Colab\"/></a>"
      ]
    },
    {
      "cell_type": "code",
      "execution_count": 1,
      "metadata": {
        "colab": {
          "base_uri": "https://localhost:8080/"
        },
        "id": "z0dmg2FhcUeO",
        "outputId": "f4e39bfe-9ac9-47f9-cbb5-ec422c167ebf"
      },
      "outputs": [
        {
          "output_type": "stream",
          "name": "stdout",
          "text": [
            "Message Data: 0110\n",
            "Number of redundant bits needed: 3\n",
            "Number of redundant bits needed: 3\n",
            "Encoded Hamming code for message 0110 is: 1100110\n",
            "\n",
            " Received data: 1101110\n",
            "Number of redundant bits needed: 4\n",
            "Error detected at position 4. Correcting the error.\n",
            "Corrected data: 1100110\n"
          ]
        }
      ],
      "source": [
        "def calculate_parity_bits(m):\n",
        "    # Calculate the number of parity bits required\n",
        "    for i in range(m):\n",
        "        if (2**i >= m + i + 1):\n",
        "            print(f\"Number of redundant bits needed: {i}\")\n",
        "            return i\n",
        "\n",
        "\n",
        "def position_parity_bits(data_bits):\n",
        "    m = len(data_bits)\n",
        "    r = calculate_parity_bits(m)\n",
        "    j = 0\n",
        "    k = 0\n",
        "    hamming_code = ''\n",
        "\n",
        "    # Position parity bits at power of 2 positions (1, 2, 4, 8, ...)\n",
        "    for i in range(1, m + r + 1):\n",
        "        if i == 2**j:\n",
        "            hamming_code += 'P'  # Placeholder for parity bit\n",
        "            j += 1\n",
        "        else:\n",
        "            hamming_code += data_bits[k]\n",
        "            k += 1\n",
        "    return hamming_code\n",
        "\n",
        "def calculate_hamming_code(data_bits):\n",
        "    hamming_code = position_parity_bits(data_bits)\n",
        "    n = len(hamming_code)\n",
        "\n",
        "    # Calculate parity bits and replace the placeholders (P)\n",
        "    for i in range(calculate_parity_bits(len(data_bits))):\n",
        "        parity_position = 2**i\n",
        "        parity_value = 0\n",
        "\n",
        "        # Check bits covered by this parity bit\n",
        "        for j in range(1, n + 1):\n",
        "            if j & parity_position != 0:\n",
        "                if hamming_code[j - 1] != 'P':\n",
        "                    parity_value ^= int(hamming_code[j - 1])\n",
        "\n",
        "        # Replace the parity bit in the string\n",
        "        hamming_code = hamming_code[:parity_position - 1] + str(parity_value) + hamming_code[parity_position:]\n",
        "\n",
        "    return hamming_code\n",
        "\n",
        "def check_received_data(received_data):\n",
        "    n = len(received_data)\n",
        "\n",
        "    # Calculate how many parity bits should be in the received message\n",
        "    r = calculate_parity_bits(n)\n",
        "\n",
        "    if r is None:\n",
        "        print(\"Error: Unable to calculate parity bits for the received data.\")\n",
        "        return\n",
        "\n",
        "    error_position = 0\n",
        "\n",
        "    # Calculate the parity for each bit\n",
        "    for i in range(r):\n",
        "        parity_position = 2**i\n",
        "        parity_value = 0\n",
        "\n",
        "        # Check bits covered by this parity bit\n",
        "        for j in range(1, n + 1):\n",
        "            if j & parity_position != 0:\n",
        "                parity_value ^= int(received_data[j - 1])\n",
        "\n",
        "        # If parity check fails, we know there's an error\n",
        "        if parity_value != 0:\n",
        "            error_position += parity_position\n",
        "\n",
        "    if error_position == 0:\n",
        "        print(\"No error detected in the received data.\")\n",
        "    else:\n",
        "        print(f\"Error detected at position {error_position}. Correcting the error.\")\n",
        "        # Correct the error by flipping the bit at the error position\n",
        "        received_data = list(received_data)\n",
        "        received_data[error_position - 1] = '1' if received_data[error_position - 1] == '0' else '0'\n",
        "        received_data = ''.join(received_data)\n",
        "        print(f\"Corrected data: {received_data}\")\n",
        "\n",
        "    return received_data\n",
        "\n",
        "# Test message\n",
        "data_bits = '0110'\n",
        "print(f\"Message Data: {data_bits}\")\n",
        "hamming_code = calculate_hamming_code(data_bits)\n",
        "print(f\"Encoded Hamming code for message {data_bits} is: {hamming_code}\")\n",
        "\n",
        "# Test received data with error\n",
        "received_data = '1101110'\n",
        "print(f\"\\n Received data: {received_data}\")\n",
        "corrected_data = check_received_data(received_data)"
      ]
    }
  ]
}